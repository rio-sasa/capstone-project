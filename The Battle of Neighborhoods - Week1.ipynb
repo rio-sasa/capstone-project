{
 "cells": [
  {
   "cell_type": "markdown",
   "id": "driving-collins",
   "metadata": {},
   "source": [
    "# Capstone Project - The Battle of Neighborhoods (Week 1)\n",
    "\n",
    "\n",
    "## If someone is looking to open a restaurant, where would you recommend that they open it?\n",
    "\n",
    "### Problem & Background\n",
    "I chose NYC for this capstone's assignment because it has a desirable market for restaurant owners.\n",
    "\n",
    "This city, NYC, is obviously the most developed and flourished in the world. From a different perspective, it means many visitors and immigrants come here from around the world with various objectives. \n",
    "So, in this city, there are many races, cultures, religions, and businesses.\n",
    "\n",
    "Thus, If I was a business owner, I also recommend this city open a new restaurant. I think this market has an appropriate environment to meet niche customers’ demands as well as wide range ones.\n",
    "\n",
    "\n",
    "\n",
    "\n",
    "This project aims to detect optimal restaurant venues in NYC using following several data.\n",
    " \n",
    "### Data *draft\n",
    "\n",
    "・Geographics in NYC\n",
    "\n",
    "・Population in NYC\n",
    "\n",
    "・Demographics in NYC\n",
    "\n",
    "・Cuisine category in NYC\n",
    "\n",
    "and so forth."
   ]
  },
  {
   "cell_type": "code",
   "execution_count": null,
   "id": "sharing-paste",
   "metadata": {},
   "outputs": [],
   "source": []
  }
 ],
 "metadata": {
  "kernelspec": {
   "display_name": "Python 3",
   "language": "python",
   "name": "python3"
  },
  "language_info": {
   "codemirror_mode": {
    "name": "ipython",
    "version": 3
   },
   "file_extension": ".py",
   "mimetype": "text/x-python",
   "name": "python",
   "nbconvert_exporter": "python",
   "pygments_lexer": "ipython3",
   "version": "3.6.13"
  }
 },
 "nbformat": 4,
 "nbformat_minor": 5
}
