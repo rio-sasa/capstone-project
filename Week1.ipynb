{
 "cells": [
  {
   "cell_type": "markdown",
   "id": "upset-dance",
   "metadata": {},
   "source": [
    "# Week1\n",
    "Write some markdown to explain that this notebook will be mainly used for the capstone project.\n",
    "Import the pandas library as pd.\n",
    "Import the Numpy library as np.\n",
    "Print the following the statement: Hello Capstone Project Course!\n"
   ]
  },
  {
   "cell_type": "code",
   "execution_count": 3,
   "id": "structural-publicity",
   "metadata": {},
   "outputs": [],
   "source": [
    "import pandas as pd\n",
    "import numpy as np"
   ]
  },
  {
   "cell_type": "code",
   "execution_count": 4,
   "id": "systematic-spank",
   "metadata": {},
   "outputs": [
    {
     "name": "stdout",
     "output_type": "stream",
     "text": [
      "Hello Capstone Project Course!\n"
     ]
    }
   ],
   "source": [
    "print(\"Hello Capstone Project Course!\")"
   ]
  },
  {
   "cell_type": "code",
   "execution_count": null,
   "id": "appropriate-genre",
   "metadata": {},
   "outputs": [],
   "source": []
  }
 ],
 "metadata": {
  "kernelspec": {
   "display_name": "Python 3",
   "language": "python",
   "name": "python3"
  },
  "language_info": {
   "codemirror_mode": {
    "name": "ipython",
    "version": 3
   },
   "file_extension": ".py",
   "mimetype": "text/x-python",
   "name": "python",
   "nbconvert_exporter": "python",
   "pygments_lexer": "ipython3",
   "version": "3.6.13"
  }
 },
 "nbformat": 4,
 "nbformat_minor": 5
}
